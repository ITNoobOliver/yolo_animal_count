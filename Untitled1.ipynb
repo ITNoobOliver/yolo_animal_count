{
 "cells": [
  {
   "cell_type": "code",
   "execution_count": null,
   "id": "d5b8fcc9-81ac-48ad-b2a8-de3923a1aad8",
   "metadata": {},
   "outputs": [],
   "source": [
    "import os\n",
    "import cv2\n",
    "import glob\n",
    "from tqdm import tqdm # 引入tqdm来显示进度条\n",
    "\n",
    "# --- 请根据您的实际情况，仔细检查并修改这里的路径 ---\n",
    "# 这是存放你所有训练和验证图片所在的文件夹\n",
    "image_directories = [\n",
    "    '/home/z5470186/Desktop/yolov12/aerial_sheep/train/images',\n",
    "    '/home/z5470186/Desktop/yolov12/aerial_sheep/valid/images'\n",
    "]\n",
    "# ----------------------------------------------------\n",
    "\n",
    "print(\"--- 开始检查数据集中的图片文件 ---\")\n",
    "corrupted_files = []\n",
    "\n",
    "# 遍历您指定的每一个图片文件夹\n",
    "for directory in image_directories:\n",
    "    # 检查文件夹是否存在\n",
    "    if not os.path.isdir(directory):\n",
    "        print(f\"‼️ 警告: 文件夹不存在，已跳过: {directory}\")\n",
    "        continue\n",
    "\n",
    "    print(f\"\\n🔍 正在扫描文件夹: {directory}\")\n",
    "    \n",
    "    # 找到文件夹下所有的 .jpg, .jpeg, .png 图片文件\n",
    "    image_files = []\n",
    "    for ext in ('*.jpg', '*.jpeg', '*.png'):\n",
    "        image_files.extend(glob.glob(os.path.join(directory, ext)))\n",
    "        \n",
    "    if not image_files:\n",
    "        print(\"  -> 该文件夹下没有找到图片文件。\")\n",
    "        continue\n",
    "\n",
    "    # 使用tqdm创建进度条，方便查看进度\n",
    "    for image_file in tqdm(image_files, desc=f\"  Checking {os.path.basename(directory)}\"):\n",
    "        try:\n",
    "            # 尝试用OpenCV读取图片\n",
    "            img = cv2.imread(image_file)\n",
    "            \n",
    "            # 如果读取结果是None，说明图片文件已损坏或格式不兼容\n",
    "            if img is None:\n",
    "                corrupted_files.append(image_file)\n",
    "        except Exception as e:\n",
    "            # 捕获其他可能的异常\n",
    "            print(f\"  -> 读取文件时发生异常: {image_file}, 错误: {e}\")\n",
    "            corrupted_files.append(image_file)\n",
    "\n",
    "print(\"\\n--- 检查完毕 ---\")\n",
    "\n",
    "if not corrupted_files:\n",
    "    print(\"✅ 恭喜！所有图片文件均可被OpenCV正常读取。\")\n",
    "else:\n",
    "    print(f\"\\n❌ 发现 {len(corrupted_files)} 个有问题的图片文件，请将它们从数据集中删除或修复：\")\n",
    "    for f in corrupted_files:\n",
    "        print(f\"  -> {f}\")"
   ]
  },
  {
   "cell_type": "code",
   "execution_count": null,
   "id": "16b7c701-df7b-49e6-9caf-06464f2b56b0",
   "metadata": {},
   "outputs": [],
   "source": []
  }
 ],
 "metadata": {
  "kernelspec": {
   "display_name": "Python (yolov12)",
   "language": "python",
   "name": "yolov12"
  },
  "language_info": {
   "codemirror_mode": {
    "name": "ipython",
    "version": 3
   },
   "file_extension": ".py",
   "mimetype": "text/x-python",
   "name": "python",
   "nbconvert_exporter": "python",
   "pygments_lexer": "ipython3",
   "version": "3.11.11"
  }
 },
 "nbformat": 4,
 "nbformat_minor": 5
}
