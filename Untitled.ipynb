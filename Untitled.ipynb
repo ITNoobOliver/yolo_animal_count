{
 "cells": [
  {
   "cell_type": "code",
   "execution_count": null,
   "id": "b2c2d330-a878-4470-b308-5e894b4589e1",
   "metadata": {},
   "outputs": [],
   "source": [
    "from ultralytics import YOLO\n",
    "import multiprocessing\n",
    "\n",
    "def main():\n",
    "    model = YOLO(r'/home/z5470186/Desktop/yolov12/ultralytics/cfg/models/v12/yolov12s.yaml')\n",
    "    # Train the model\n",
    "    results = model.train(\n",
    "      data='data.yaml',\n",
    "      epochs=100, \n",
    "      batch=2,\n",
    "      imgsz=640,\n",
    "      scale=0.5,\n",
    "      mosaic=0,\n",
    "      mixup=0.0,\n",
    "      copy_paste=0,\n",
    "      device=\"0\",\n",
    "      workers=0,\n",
    "      save=True,\n",
    "      project=\"sheep_detection\"\n",
    "    )\n",
    "\n",
    "    # 评估模型性能并获取F1分数\n",
    "    metrics = model.val(verbose=True,save_json=True)  # 使用verbose=True参数查看详细的评估指标\n",
    "\n",
    "    # 打印F1分数\n",
    "    print(f\"F1 score: {metrics.box.f1}\")  # 直接访问指标中的f1属性\n",
    "\n",
    "    \n",
    "    # Perform object detection on an image\n",
    "    results = model(r\"/home/z5470186/Desktop/yolov12/aerial_sheep/train/images/DJI_0004_0254_jpg.rf.454671f008ff5771b657fc7b11d37f15.jpg\")\n",
    "    results[0].show()\n",
    "\n",
    "if __name__ == \"__main__\":\n",
    "    multiprocessing.freeze_support()\n",
    "    main()"
   ]
  },
  {
   "cell_type": "code",
   "execution_count": null,
   "id": "0499ae0a-e20e-43c2-addf-5841ba9500d4",
   "metadata": {},
   "outputs": [],
   "source": [
    "import torch\n",
    "import torchvision\n",
    "import numpy\n",
    "import scipy\n",
    "import sklearn\n",
    "import cv2\n",
    "import albumentations\n",
    "import onnx\n",
    "import onnxruntime\n",
    "import timm\n",
    "\n",
    "print(\"torch:\", torch.__version__)\n",
    "print(\"torchvision:\", torchvision.__version__)\n",
    "print(\"numpy:\", numpy.__version__)\n",
    "print(\"scipy:\", scipy.__version__)\n",
    "print(\"scikit-learn:\", sklearn.__version__)\n",
    "print(\"cv2:\", cv2.__version__)\n",
    "print(\"albumentations:\", albumentations.__version__)\n",
    "print(\"onnx:\", onnx.__version__)\n",
    "print(\"onnxruntime:\", onnxruntime.__version__)\n",
    "print(\"timm:\", timm.__version__)\n"
   ]
  },
  {
   "cell_type": "code",
   "execution_count": null,
   "id": "35bdfc8e-bbcc-4407-a388-9ceccf631ac1",
   "metadata": {},
   "outputs": [],
   "source": [
    "from flash_attn.bert_padding import index_first_axis\n",
    "print(\"FlashAttention 正常工作 ✅\")\n"
   ]
  },
  {
   "cell_type": "code",
   "execution_count": null,
   "id": "9831399f-2d3b-422b-b121-eb2598d0c439",
   "metadata": {},
   "outputs": [],
   "source": [
    "# 现在可以测试了\n",
    "import sklearn\n",
    "from sklearn.model_selection import KFold\n",
    "\n",
    "print(f\"scikit-learn: {sklearn.__version__}\")  # 应该显示 1.4.0\n",
    "kf = KFold(n_splits=5)\n",
    "print(\"KFold工作正常！\")"
   ]
  },
  {
   "cell_type": "code",
   "execution_count": null,
   "id": "9004e2bb-a580-4065-8729-b046a46f25fa",
   "metadata": {},
   "outputs": [],
   "source": []
  }
 ],
 "metadata": {
  "kernelspec": {
   "display_name": "yolov12",
   "language": "python",
   "name": "python3"
  },
  "language_info": {
   "name": "python",
   "version": "3.11.11"
  }
 },
 "nbformat": 4,
 "nbformat_minor": 5
}
